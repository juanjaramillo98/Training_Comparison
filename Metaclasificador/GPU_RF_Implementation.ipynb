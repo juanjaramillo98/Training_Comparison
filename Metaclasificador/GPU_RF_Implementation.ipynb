{
 "cells": [
  {
   "cell_type": "code",
   "execution_count": 1,
   "metadata": {},
   "outputs": [],
   "source": [
    "from cuml.ensemble import RandomForestClassifier as cuRF\n",
    "\n",
    "import cuml\n",
    "import numpy as np\n",
    "import cupy as cp\n",
    "import time\n",
    "import os\n",
    "import json\n"
   ]
  },
  {
   "cell_type": "code",
   "execution_count": 2,
   "metadata": {},
   "outputs": [],
   "source": [
    "# Cargar el dataset desde el archivo .npy\n",
    "path1 = '../DatasetVGG19/test.npy'\n",
    "path2 = '../DatasetVGG19/train.npy'\n",
    "path3 = '../DatasetVGG19/validation.npy'\n",
    "\n",
    "data_train = np.load(path2)\n",
    "data_test = np.load(path1)\n",
    "data_val = np.load(path3)"
   ]
  },
  {
   "cell_type": "code",
   "execution_count": 3,
   "metadata": {},
   "outputs": [],
   "source": [
    "def unpack(array):\n",
    "    x = cp.asarray(array[:,:-2])\n",
    "    y = array[:,-2:]\n",
    "    y = cp.asarray(np.argmax(y, axis=1))\n",
    "    return x,y\n",
    "\n",
    "def writeJson(tiempo,accu,metod):\n",
    "    nuevo_registro = {\n",
    "        'Tipo Ejecucion' : \"GPU\",\n",
    "        'Metodo' : metod,\n",
    "        'tiempo_ejecucion': tiempo,\n",
    "        'accuracy' : accu\n",
    "    }\n",
    "    nombre_archivo = '../GPU_tiempos.json'\n",
    "\n",
    "    # Leer el contenido existente, si el archivo ya existe\n",
    "    if os.path.exists(nombre_archivo):\n",
    "        with open(nombre_archivo, 'r') as archivo:\n",
    "            try:\n",
    "                registros = json.load(archivo)\n",
    "            except json.JSONDecodeError:\n",
    "                registros = []\n",
    "    else:\n",
    "        registros = []\n",
    "\n",
    "    # Agregar el nuevo registro\n",
    "    registros.append(nuevo_registro)\n",
    "\n",
    "    # Guardar los registros actualizados en el archivo JSON\n",
    "    with open(nombre_archivo, 'w') as archivo:\n",
    "        json.dump(registros, archivo, indent=4)"
   ]
  },
  {
   "cell_type": "code",
   "execution_count": 4,
   "metadata": {},
   "outputs": [],
   "source": [
    "X_train,y_train = unpack(data_train)\n",
    "X_test,y_test = unpack(data_train)\n",
    "X_val,y_val = unpack(data_val)"
   ]
  },
  {
   "cell_type": "code",
   "execution_count": 7,
   "metadata": {},
   "outputs": [],
   "source": [
    "def random_forest(X, y):\n",
    "    # Random Forest con parámetros ajustados\n",
    "    model = cuRF(n_estimators=100, max_depth=50, random_state=42)\n",
    "    model.fit(X, y)\n",
    "    return model\n",
    "\n",
    "def model_score(X, y, model, dataset):\n",
    "    accuracy = model.score(X, y)\n",
    "    print(f\"Precisión del modelo {dataset}: {accuracy * 100:.2f}%\")\n",
    "    return accuracy\n"
   ]
  },
  {
   "cell_type": "code",
   "execution_count": 18,
   "metadata": {},
   "outputs": [
    {
     "name": "stdout",
     "output_type": "stream",
     "text": [
      "Entrenamiento Random Forest\n",
      "Precisión del modelo Test: 86.84%\n",
      "Precisión del modelo Val: 37.50%\n",
      "El tiempo de ejecución fue de 4.529031991958618 segundos\n"
     ]
    }
   ],
   "source": [
    "print(\"Entrenamiento Random Forest\")\n",
    "\n",
    "inicio = time.time()\n",
    "\n",
    "RF_model = random_forest(X_train, y_train)\n",
    "\n",
    "fin = time.time()\n",
    "tiempo_ejecucion_RF = fin - inicio\n",
    "\n",
    "accuracy = model_score(X_test, y_test, RF_model, \"Test\")\n",
    "model_score(X_val, y_val, RF_model, \"Val\")\n",
    "\n",
    "print(f\"El tiempo de ejecución fue de {tiempo_ejecucion_RF} segundos\")"
   ]
  },
  {
   "cell_type": "code",
   "execution_count": 19,
   "metadata": {},
   "outputs": [],
   "source": [
    "writeJson(tiempo_ejecucion_RF, accuracy, \"Random Forest\")"
   ]
  }
 ],
 "metadata": {
  "kernelspec": {
   "display_name": "base",
   "language": "python",
   "name": "python3"
  },
  "language_info": {
   "codemirror_mode": {
    "name": "ipython",
    "version": 3
   },
   "file_extension": ".py",
   "mimetype": "text/x-python",
   "name": "python",
   "nbconvert_exporter": "python",
   "pygments_lexer": "ipython3",
   "version": "3.12.6"
  }
 },
 "nbformat": 4,
 "nbformat_minor": 2
}
