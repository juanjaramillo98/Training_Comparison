{
 "cells": [
  {
   "cell_type": "code",
   "execution_count": 3,
   "metadata": {},
   "outputs": [],
   "source": [
    "import cuml\n",
    "import numpy as np\n",
    "from cuml.linear_model import LogisticRegression\n",
    "from cuml.naive_bayes import GaussianNB\n",
    "import cupy as cp\n",
    "import time"
   ]
  },
  {
   "cell_type": "code",
   "execution_count": 4,
   "metadata": {},
   "outputs": [],
   "source": [
    "# Cargar el dataset desde el archivo .npy\n",
    "path1 = '../DatasetVGG19/test.npy'\n",
    "path2 = '../DatasetVGG19/train.npy'\n",
    "path3 = '../DatasetVGG19/validation.npy'\n",
    "\n",
    "data_train = np.load(path2)\n",
    "data_test = np.load(path1)\n",
    "data_val = np.load(path3)"
   ]
  },
  {
   "cell_type": "code",
   "execution_count": 5,
   "metadata": {},
   "outputs": [],
   "source": [
    "def unpack(array):\n",
    "    x = cp.asarray(array[:,:-2])\n",
    "    y = array[:,-2:]\n",
    "    y = cp.asarray(np.argmax(y, axis=1))\n",
    "    return x,y"
   ]
  },
  {
   "cell_type": "code",
   "execution_count": 6,
   "metadata": {},
   "outputs": [],
   "source": [
    "X_train,y_train = unpack(data_train)\n",
    "X_test,y_test = unpack(data_train)\n",
    "X_val,y_val = unpack(data_val)\n"
   ]
  },
  {
   "cell_type": "markdown",
   "metadata": {},
   "source": [
    "# Logistic Regression\n",
    "\n",
    "[Documentacion](https://docs.rapids.ai/api/cuml/stable/api/#logistic-regression)"
   ]
  },
  {
   "cell_type": "code",
   "execution_count": 7,
   "metadata": {},
   "outputs": [],
   "source": [
    "def logistic_regresion(X, y):\n",
    "    model = LogisticRegression(max_iter=1000)\n",
    "    model.fit(X, y)\n",
    "    return model\n",
    "\n",
    "def model_score(X,y,model,dataset):\n",
    "    accuracy = model.score(X, y)\n",
    "    print(f\"Precisión del modelo {dataset}: {accuracy * 100:.2f}%\")\n",
    "    return"
   ]
  },
  {
   "cell_type": "code",
   "execution_count": 8,
   "metadata": {},
   "outputs": [
    {
     "name": "stdout",
     "output_type": "stream",
     "text": [
      "Entrenamiento Logistic Regression\n",
      "Precisión del modelo Test: 73.96%\n",
      "Precisión del modelo Val: 50.00%\n",
      "El tiempo de ejecucion fue de 1.4624521732330322 segundos\n"
     ]
    }
   ],
   "source": [
    "print(\"Entrenamiento Logistic Regression\")\n",
    "\n",
    "inicio = time.time()\n",
    "\n",
    "LR_model = logistic_regresion(X_train,y_train)\n",
    "\n",
    "fin = time.time()\n",
    "tiempo_ejecucion_LR = fin - inicio\n",
    "\n",
    "model_score(X_test,y_test,LR_model,\"Test\")\n",
    "model_score(X_val,y_val,LR_model,\"Val\")\n",
    "\n",
    "print(f\"El tiempo de ejecucion fue de {tiempo_ejecucion_LR} segundos\")"
   ]
  },
  {
   "cell_type": "markdown",
   "metadata": {},
   "source": [
    "# NaiveBayes\n",
    "\n",
    "[Documentacion](https://docs.rapids.ai/api/cuml/stable/api/#naive-bayes)"
   ]
  },
  {
   "cell_type": "code",
   "execution_count": 9,
   "metadata": {},
   "outputs": [],
   "source": [
    "def naive_bayes (X,y):\n",
    "    model = GaussianNB()\n",
    "    model.fit(X, y)\n",
    "    return model"
   ]
  },
  {
   "cell_type": "code",
   "execution_count": 10,
   "metadata": {},
   "outputs": [
    {
     "name": "stdout",
     "output_type": "stream",
     "text": [
      "Entrenamiento Naive Bayes\n",
      "Precisión del modelo Test: 37.48%\n",
      "Precisión del modelo Val: 68.75%\n",
      "El tiempo de ejecucion fue de 1.752694845199585 segundos\n"
     ]
    }
   ],
   "source": [
    "print(\"Entrenamiento Naive Bayes\")\n",
    "\n",
    "inicio = time.time()\n",
    "\n",
    "NB_model = naive_bayes(X_train,y_train)\n",
    "\n",
    "fin = time.time()\n",
    "tiempo_ejecucion_NB = fin - inicio\n",
    "\n",
    "model_score(X_test,y_test,NB_model,\"Test\")\n",
    "model_score(X_val,y_val,NB_model,\"Val\")\n",
    "\n",
    "print(f\"El tiempo de ejecucion fue de {tiempo_ejecucion_NB} segundos\")"
   ]
  },
  {
   "cell_type": "markdown",
   "metadata": {},
   "source": [
    "# Tiempos"
   ]
  },
  {
   "cell_type": "code",
   "execution_count": 11,
   "metadata": {},
   "outputs": [
    {
     "name": "stdout",
     "output_type": "stream",
     "text": [
      "Tiempo LR = 1.46 segundos\n",
      "Tiempo NB = 1.75 segundos\n"
     ]
    }
   ],
   "source": [
    "print(f\"Tiempo LR = {tiempo_ejecucion_LR:.2f} segundos\")\n",
    "print(f\"Tiempo NB = {tiempo_ejecucion_NB:.2f} segundos\")"
   ]
  }
 ],
 "metadata": {
  "kernelspec": {
   "display_name": "base",
   "language": "python",
   "name": "python3"
  },
  "language_info": {
   "codemirror_mode": {
    "name": "ipython",
    "version": 3
   },
   "file_extension": ".py",
   "mimetype": "text/x-python",
   "name": "python",
   "nbconvert_exporter": "python",
   "pygments_lexer": "ipython3",
   "version": "3.12.6"
  }
 },
 "nbformat": 4,
 "nbformat_minor": 2
}
