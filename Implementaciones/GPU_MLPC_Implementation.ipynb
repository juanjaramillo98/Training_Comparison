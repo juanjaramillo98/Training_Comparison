{
 "cells": [
  {
   "cell_type": "code",
   "execution_count": 21,
   "metadata": {},
   "outputs": [],
   "source": [
    "import numpy as np\n",
    "import tensorflow as tf\n",
    "import time"
   ]
  },
  {
   "cell_type": "code",
   "execution_count": 22,
   "metadata": {},
   "outputs": [],
   "source": [
    "# Cargar el dataset desde el archivo .npy\n",
    "path1 = '../DatasetVGG19/test.npy'\n",
    "path2 = '../DatasetVGG19/train.npy'\n",
    "path3 = '../DatasetVGG19/validation.npy'"
   ]
  },
  {
   "cell_type": "code",
   "execution_count": 23,
   "metadata": {},
   "outputs": [],
   "source": [
    "data_train = np.load(path2)\n",
    "data_test = np.load(path1)\n",
    "data_val = np.load(path3)"
   ]
  },
  {
   "cell_type": "code",
   "execution_count": 24,
   "metadata": {},
   "outputs": [],
   "source": [
    "\n",
    "def unpack(array):\n",
    "    x = array[:,:-2]\n",
    "    y = array[:,-2:]\n",
    "    y = np.argmax(y, axis=1)\n",
    "    return x,y\n",
    "\n",
    "def model_score_tf(X,y,model,dataset):\n",
    "    test_loss, test_accuracy = model.evaluate(X, y)\n",
    "    print(f\"Precisión del modelo {dataset}: {test_accuracy * 100:.2f}%\")\n",
    "    return"
   ]
  },
  {
   "cell_type": "markdown",
   "metadata": {},
   "source": [
    "# MLPClassifier"
   ]
  },
  {
   "cell_type": "code",
   "execution_count": 25,
   "metadata": {},
   "outputs": [],
   "source": [
    "X_train,y_train = unpack(data_train)\n",
    "X_test,y_test = unpack(data_train)\n",
    "X_val,y_val = unpack(data_val)\n",
    "\n",
    "# Convertir las etiquetas a formato one-hot para TensorFlow\n",
    "y_train = tf.keras.utils.to_categorical(y_train, num_classes=2)\n",
    "y_test = tf.keras.utils.to_categorical(y_test, num_classes=2)\n",
    "y_val = tf.keras.utils.to_categorical(y_val, num_classes=2)"
   ]
  },
  {
   "cell_type": "code",
   "execution_count": 26,
   "metadata": {},
   "outputs": [],
   "source": [
    "def MLP_Classifier (X,y,X_test,y_test):\n",
    "    model = tf.keras.models.Sequential([\n",
    "        tf.keras.layers.Dense(500, activation='relu', input_shape=(1000,)),\n",
    "        tf.keras.layers.Dense(200, activation='relu'),\n",
    "        tf.keras.layers.Dense(2, activation='softmax')\n",
    "    ])\n",
    "    model.compile(optimizer='adam', loss='categorical_crossentropy', metrics=['accuracy'])\n",
    "    model.fit(X, y, epochs=5, validation_data=(X_test, y_test),verbose=0)\n",
    "    return model"
   ]
  },
  {
   "cell_type": "code",
   "execution_count": 27,
   "metadata": {},
   "outputs": [
    {
     "name": "stdout",
     "output_type": "stream",
     "text": [
      "Entrenamiento MLP Classifier\n"
     ]
    },
    {
     "name": "stderr",
     "output_type": "stream",
     "text": [
      "2024-10-17 02:20:54.898574: I external/local_xla/xla/stream_executor/cuda/cuda_asm_compiler.cc:393] ptxas warning : Registers are spilled to local memory in function 'gemm_fusion_dot_326', 20 bytes spill stores, 20 bytes spill loads\n",
      "\n",
      "2024-10-17 02:20:54.932685: I external/local_xla/xla/stream_executor/cuda/cuda_asm_compiler.cc:393] ptxas warning : Registers are spilled to local memory in function 'gemm_fusion_dot_326', 16 bytes spill stores, 16 bytes spill loads\n",
      "\n",
      "2024-10-17 02:20:55.010096: I external/local_xla/xla/stream_executor/cuda/cuda_asm_compiler.cc:393] ptxas warning : Registers are spilled to local memory in function 'gemm_fusion_dot_326', 16 bytes spill stores, 16 bytes spill loads\n",
      "\n",
      "2024-10-17 02:20:58.308895: I external/local_xla/xla/stream_executor/cuda/cuda_asm_compiler.cc:393] ptxas warning : Registers are spilled to local memory in function 'gemm_fusion_dot_326', 64 bytes spill stores, 64 bytes spill loads\n",
      "\n",
      "2024-10-17 02:20:58.392362: I external/local_xla/xla/stream_executor/cuda/cuda_asm_compiler.cc:393] ptxas warning : Registers are spilled to local memory in function 'gemm_fusion_dot_326', 72 bytes spill stores, 72 bytes spill loads\n",
      "\n",
      "2024-10-17 02:20:58.798252: I external/local_xla/xla/stream_executor/cuda/cuda_asm_compiler.cc:393] ptxas warning : Registers are spilled to local memory in function 'gemm_fusion_dot_326', 48 bytes spill stores, 48 bytes spill loads\n",
      "\n",
      "2024-10-17 02:20:58.917114: I external/local_xla/xla/stream_executor/cuda/cuda_asm_compiler.cc:393] ptxas warning : Registers are spilled to local memory in function 'gemm_fusion_dot_326', 40 bytes spill stores, 40 bytes spill loads\n",
      "\n"
     ]
    },
    {
     "name": "stdout",
     "output_type": "stream",
     "text": [
      "\u001b[1m475/475\u001b[0m \u001b[32m━━━━━━━━━━━━━━━━━━━━\u001b[0m\u001b[37m\u001b[0m \u001b[1m1s\u001b[0m 2ms/step - accuracy: 0.7366 - loss: 0.5778\n",
      "Precisión del modelo Test: 73.96%\n",
      "\u001b[1m1/1\u001b[0m \u001b[32m━━━━━━━━━━━━━━━━━━━━\u001b[0m\u001b[37m\u001b[0m \u001b[1m2s\u001b[0m 2s/step - accuracy: 0.5000 - loss: 0.8543\n",
      "Precisión del modelo Val: 50.00%\n",
      "El tiempo de ejecucion fue de 17.88 segundos\n"
     ]
    }
   ],
   "source": [
    "print(\"Entrenamiento MLP Classifier\")\n",
    "\n",
    "inicio = time.time()\n",
    "\n",
    "MLPC_model = MLP_Classifier(X_train,y_train,X_test,y_test)\n",
    "\n",
    "fin = time.time()\n",
    "tiempo_ejecucion_MLPC = fin - inicio\n",
    "\n",
    "model_score_tf(X_test,y_test,MLPC_model,\"Test\")\n",
    "model_score_tf(X_val,y_val,MLPC_model,\"Val\")\n",
    "\n",
    "print(f\"El tiempo de ejecucion fue de {tiempo_ejecucion_MLPC:.2f} segundos\")"
   ]
  },
  {
   "cell_type": "markdown",
   "metadata": {},
   "source": [
    "# Tiempos"
   ]
  },
  {
   "cell_type": "code",
   "execution_count": 28,
   "metadata": {},
   "outputs": [
    {
     "name": "stdout",
     "output_type": "stream",
     "text": [
      "Tiempo MLPC = 17.88 segundos\n"
     ]
    }
   ],
   "source": [
    "print(f\"Tiempo MLPC = {tiempo_ejecucion_MLPC:.2f} segundos\")"
   ]
  }
 ],
 "metadata": {
  "kernelspec": {
   "display_name": "Python 3",
   "language": "python",
   "name": "python3"
  },
  "language_info": {
   "codemirror_mode": {
    "name": "ipython",
    "version": 3
   },
   "file_extension": ".py",
   "mimetype": "text/x-python",
   "name": "python",
   "nbconvert_exporter": "python",
   "pygments_lexer": "ipython3",
   "version": "3.11.0rc1"
  }
 },
 "nbformat": 4,
 "nbformat_minor": 2
}
