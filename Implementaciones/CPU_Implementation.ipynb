{
 "cells": [
  {
   "cell_type": "code",
   "execution_count": 29,
   "metadata": {},
   "outputs": [],
   "source": [
    "from sklearn.naive_bayes import GaussianNB\n",
    "from sklearn.neural_network import MLPClassifier\n",
    "from sklearn.linear_model import LogisticRegression\n",
    "\n",
    "import time\n",
    "import os\n",
    "import time\n",
    "import json\n",
    "import numpy as np"
   ]
  },
  {
   "cell_type": "code",
   "execution_count": 30,
   "metadata": {},
   "outputs": [],
   "source": [
    "# Cargar el dataset desde el archivo .npy\n",
    "path1 = '../DatasetVGG19/test.npy'\n",
    "path2 = '../DatasetVGG19/train.npy'\n",
    "path3 = '../DatasetVGG19/validation.npy'\n",
    "\n",
    "data_train = np.load(path2)\n",
    "data_test = np.load(path1)\n",
    "data_val = np.load(path3)"
   ]
  },
  {
   "cell_type": "code",
   "execution_count": 31,
   "metadata": {},
   "outputs": [],
   "source": [
    "def unpack(array):\n",
    "    x = array[:,:-2]\n",
    "    y = array[:,-2:]\n",
    "    y = np.argmax(y, axis=1)\n",
    "    return x,y\n",
    "\n",
    "def model_score(X,y,model,dataset):\n",
    "    accuracy = model.score(X, y)\n",
    "    print(f\"Precisión del modelo {dataset}: {accuracy * 100:.2f}%\")\n",
    "    return accuracy\n",
    "\n",
    "def writeJson(tiempo,accu,metod):\n",
    "    nuevo_registro = {\n",
    "        'Tipo Ejecucion' : \"CPU\",\n",
    "        'Metodo' : metod,\n",
    "        'Epochs':20,\n",
    "        'tiempo_ejecucion': tiempo,\n",
    "        'accuracy' : accu\n",
    "    }\n",
    "    nombre_archivo = '../CPU_tiempos.json'\n",
    "\n",
    "    # Leer el contenido existente, si el archivo ya existe\n",
    "    if os.path.exists(nombre_archivo):\n",
    "        with open(nombre_archivo, 'r') as archivo:\n",
    "            try:\n",
    "                registros = json.load(archivo)\n",
    "            except json.JSONDecodeError:\n",
    "                registros = []\n",
    "    else:\n",
    "        registros = []\n",
    "\n",
    "    # Agregar el nuevo registro\n",
    "    registros.append(nuevo_registro)\n",
    "\n",
    "    # Guardar los registros actualizados en el archivo JSON\n",
    "    with open(nombre_archivo, 'w') as archivo:\n",
    "        json.dump(registros, archivo, indent=4)"
   ]
  },
  {
   "cell_type": "code",
   "execution_count": 32,
   "metadata": {},
   "outputs": [],
   "source": [
    "X_train,y_train = unpack(data_train)\n",
    "X_test,y_test = unpack(data_train)\n",
    "X_val,y_val = unpack(data_val)\n"
   ]
  },
  {
   "cell_type": "markdown",
   "metadata": {},
   "source": [
    "# Logistic Regression\n",
    "\n",
    "[Documentacion](https://scikit-learn.org/stable/modules/generated/sklearn.linear_model.LogisticRegression.html#logisticregression)"
   ]
  },
  {
   "cell_type": "code",
   "execution_count": 33,
   "metadata": {},
   "outputs": [],
   "source": [
    "def logistic_regresion (X,y):\n",
    "    model = LogisticRegression(max_iter=1000)\n",
    "    model.fit(X, y)\n",
    "    return model"
   ]
  },
  {
   "cell_type": "code",
   "execution_count": 34,
   "metadata": {},
   "outputs": [
    {
     "name": "stdout",
     "output_type": "stream",
     "text": [
      "Entrenamiento Logistic Regression\n",
      "Precisión del modelo Test: 73.96%\n",
      "Precisión del modelo Val: 50.00%\n",
      "El tiempo de ejecucion fue de 1.5385217666625977 segundos\n"
     ]
    }
   ],
   "source": [
    "print(\"Entrenamiento Logistic Regression\")\n",
    "\n",
    "inicio = time.time()\n",
    "\n",
    "LR_model = logistic_regresion(X_train,y_train)\n",
    "\n",
    "fin = time.time()\n",
    "tiempo_ejecucion_LR = fin - inicio\n",
    "\n",
    "accuracy = model_score(X_test,y_test,LR_model,\"Test\")\n",
    "model_score(X_val,y_val,LR_model,\"Val\")\n",
    "\n",
    "print(f\"El tiempo de ejecucion fue de {tiempo_ejecucion_LR} segundos\")"
   ]
  },
  {
   "cell_type": "code",
   "execution_count": 35,
   "metadata": {},
   "outputs": [],
   "source": [
    "writeJson(tiempo_ejecucion_LR,accuracy,\"Logistic Regression\")"
   ]
  },
  {
   "cell_type": "markdown",
   "metadata": {},
   "source": [
    "# NaiveBayes\n",
    "\n",
    "[Documentacion](https://scikit-learn.org/stable/modules/generated/sklearn.naive_bayes.GaussianNB.html#sklearn.naive_bayes.GaussianNB)"
   ]
  },
  {
   "cell_type": "code",
   "execution_count": 36,
   "metadata": {},
   "outputs": [],
   "source": [
    "def naive_bayes (X,y):\n",
    "    model = GaussianNB()\n",
    "    model.fit(X, y)\n",
    "    return model"
   ]
  },
  {
   "cell_type": "code",
   "execution_count": 37,
   "metadata": {},
   "outputs": [
    {
     "name": "stdout",
     "output_type": "stream",
     "text": [
      "Entrenamiento Naive Bayes\n",
      "Precisión del modelo Test: 37.48%\n",
      "Precisión del modelo Val: 68.75%\n",
      "El tiempo de ejecucion fue de 0.20204901695251465 segundos\n"
     ]
    }
   ],
   "source": [
    "print(\"Entrenamiento Naive Bayes\")\n",
    "\n",
    "inicio = time.time()\n",
    "\n",
    "NB_model = naive_bayes(X_train,y_train)\n",
    "\n",
    "fin = time.time()\n",
    "tiempo_ejecucion_NB = fin - inicio\n",
    "\n",
    "accuracy = model_score(X_test,y_test,NB_model,\"Test\")\n",
    "model_score(X_val,y_val,NB_model,\"Val\")\n",
    "\n",
    "print(f\"El tiempo de ejecucion fue de {tiempo_ejecucion_NB} segundos\")"
   ]
  },
  {
   "cell_type": "code",
   "execution_count": 38,
   "metadata": {},
   "outputs": [],
   "source": [
    "writeJson(tiempo_ejecucion_NB,accuracy,\"Naive Bayes\")"
   ]
  },
  {
   "cell_type": "markdown",
   "metadata": {},
   "source": [
    "# MLPClassifier\n",
    "\n",
    "[Documentacion](https://scikit-learn.org/stable/modules/generated/sklearn.neural_network.MLPClassifier.html)"
   ]
  },
  {
   "cell_type": "code",
   "execution_count": 39,
   "metadata": {},
   "outputs": [],
   "source": [
    "def MLP_Classifier (X,y):\n",
    "    model = MLPClassifier(hidden_layer_sizes=(500, 200), activation='relu', max_iter=20, solver='adam')\n",
    "    model.fit(X, y)\n",
    "    return model"
   ]
  },
  {
   "cell_type": "code",
   "execution_count": 40,
   "metadata": {},
   "outputs": [
    {
     "name": "stdout",
     "output_type": "stream",
     "text": [
      "Entrenamiento MLP Classifier\n"
     ]
    },
    {
     "name": "stderr",
     "output_type": "stream",
     "text": [
      "/opt/conda/lib/python3.11/site-packages/sklearn/neural_network/_multilayer_perceptron.py:691: ConvergenceWarning: Stochastic Optimizer: Maximum iterations (20) reached and the optimization hasn't converged yet.\n",
      "  warnings.warn(\n"
     ]
    },
    {
     "name": "stdout",
     "output_type": "stream",
     "text": [
      "Precisión del modelo Test: 74.23%\n",
      "Precisión del modelo Val: 50.00%\n",
      "El tiempo de ejecucion fue de 43.615642070770264 segundos\n"
     ]
    }
   ],
   "source": [
    "print(\"Entrenamiento MLP Classifier\")\n",
    "\n",
    "inicio = time.time()\n",
    "\n",
    "MLPC_model = MLP_Classifier(X_train,y_train)\n",
    "\n",
    "fin = time.time()\n",
    "tiempo_ejecucion_MLPC = fin - inicio\n",
    "\n",
    "accuracy = model_score(X_test,y_test,MLPC_model,\"Test\")\n",
    "model_score(X_val,y_val,MLPC_model,\"Val\")\n",
    "\n",
    "print(f\"El tiempo de ejecucion fue de {tiempo_ejecucion_MLPC} segundos\")"
   ]
  },
  {
   "cell_type": "code",
   "execution_count": 41,
   "metadata": {},
   "outputs": [],
   "source": [
    "writeJson(tiempo_ejecucion_MLPC,accuracy,\"MLPC\")"
   ]
  },
  {
   "cell_type": "markdown",
   "metadata": {},
   "source": [
    "# Tiempos"
   ]
  },
  {
   "cell_type": "code",
   "execution_count": 42,
   "metadata": {},
   "outputs": [
    {
     "name": "stdout",
     "output_type": "stream",
     "text": [
      "Tiempo LR = 1.54 segundos\n",
      "Tiempo NB = 0.20 segundos\n",
      "Tiempo MLPC = 43.62 segundos\n"
     ]
    }
   ],
   "source": [
    "print(f\"Tiempo LR = {tiempo_ejecucion_LR:.2f} segundos\")\n",
    "print(f\"Tiempo NB = {tiempo_ejecucion_NB:.2f} segundos\")\n",
    "print(f\"Tiempo MLPC = {tiempo_ejecucion_MLPC:.2f} segundos\")"
   ]
  }
 ],
 "metadata": {
  "kernelspec": {
   "display_name": "base",
   "language": "python",
   "name": "python3"
  },
  "language_info": {
   "codemirror_mode": {
    "name": "ipython",
    "version": 3
   },
   "file_extension": ".py",
   "mimetype": "text/x-python",
   "name": "python",
   "nbconvert_exporter": "python",
   "pygments_lexer": "ipython3",
   "version": "3.11.6"
  }
 },
 "nbformat": 4,
 "nbformat_minor": 2
}
